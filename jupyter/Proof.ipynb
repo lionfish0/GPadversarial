{
 "cells": [
  {
   "cell_type": "code",
   "execution_count": 1,
   "metadata": {},
   "outputs": [
    {
     "name": "stdout",
     "output_type": "stream",
     "text": [
      "Running L-BFGS-B (Scipy implementation) Code:\n",
      "  runtime   i      f              |g|        \n",
      "    00s01  0003   2.080329e+00   7.851244e-07 \n",
      "    00s05  0010   2.079461e+00   3.855250e-10 \n",
      "    00s06  0012   2.079451e+00   9.673108e-11 \n",
      "Runtime:     00s06\n",
      "Optimization status: Converged\n",
      "\n"
     ]
    }
   ],
   "source": [
    "import GPy\n",
    "import numpy as np\n",
    "import matplotlib.pyplot as plt\n",
    "%matplotlib inline\n",
    "from GPadversarial import simple\n",
    "\n",
    "X = np.array([[2,1],[2,-1],[-1,0]])*1.0\n",
    "y = np.array([[1],[1],[-1]])*1.0\n",
    "m = simple.build_model(X,y)\n",
    "\n",
    "patches = []\n",
    "patches.append(np.array([[-np.inf,0],[-np.inf,np.inf]]))\n",
    "patches.append(np.array([[0,np.inf],[-np.inf,np.inf]]))"
   ]
  },
  {
   "cell_type": "code",
   "execution_count": 1,
   "metadata": {},
   "outputs": [
    {
     "ename": "NameError",
     "evalue": "name 'm' is not defined",
     "output_type": "error",
     "traceback": [
      "\u001b[0;31m---------------------------------------------------------------------------\u001b[0m",
      "\u001b[0;31mNameError\u001b[0m                                 Traceback (most recent call last)",
      "\u001b[0;32m<ipython-input-1-9a41ef9b0e4f>\u001b[0m in \u001b[0;36m<module>\u001b[0;34m()\u001b[0m\n\u001b[0;32m----> 1\u001b[0;31m \u001b[0mm\u001b[0m\u001b[0;34m.\u001b[0m\u001b[0mplot\u001b[0m\u001b[0;34m(\u001b[0m\u001b[0mplot_data\u001b[0m\u001b[0;34m=\u001b[0m\u001b[0;32mFalse\u001b[0m\u001b[0;34m,\u001b[0m\u001b[0mlegend\u001b[0m\u001b[0;34m=\u001b[0m\u001b[0;32mFalse\u001b[0m\u001b[0;34m)\u001b[0m\u001b[0;34m\u001b[0m\u001b[0;34m\u001b[0m\u001b[0m\n\u001b[0m\u001b[1;32m      2\u001b[0m \u001b[0mplt\u001b[0m\u001b[0;34m.\u001b[0m\u001b[0mscatter\u001b[0m\u001b[0;34m(\u001b[0m\u001b[0mX\u001b[0m\u001b[0;34m[\u001b[0m\u001b[0;34m:\u001b[0m\u001b[0;34m,\u001b[0m\u001b[0;36m0\u001b[0m\u001b[0;34m]\u001b[0m\u001b[0;34m,\u001b[0m\u001b[0mX\u001b[0m\u001b[0;34m[\u001b[0m\u001b[0;34m:\u001b[0m\u001b[0;34m,\u001b[0m\u001b[0;36m1\u001b[0m\u001b[0;34m]\u001b[0m\u001b[0;34m,\u001b[0m\u001b[0;34m(\u001b[0m\u001b[0my\u001b[0m\u001b[0;34m+\u001b[0m\u001b[0;36m1.1\u001b[0m\u001b[0;34m)\u001b[0m\u001b[0;34m*\u001b[0m\u001b[0;36m10\u001b[0m\u001b[0;34m)\u001b[0m\u001b[0;34m\u001b[0m\u001b[0;34m\u001b[0m\u001b[0m\n",
      "\u001b[0;31mNameError\u001b[0m: name 'm' is not defined"
     ]
    }
   ],
   "source": [
    "m.plot(plot_data=False,legend=False)\n",
    "plt.scatter(X[:,0],X[:,1],(y+1.1)*10)"
   ]
  },
  {
   "cell_type": "code",
   "execution_count": 3,
   "metadata": {},
   "outputs": [],
   "source": [
    "#iterate over each dimension\n",
    "gradient_dim = 0 #which dim are differentiating wrt?\n",
    "\n",
    "#iterate over each patch\n",
    "#for patch in patches:\n",
    "patch = patches[0]\n",
    "\n",
    "#iterate over each training point\n",
    "point = X[0,:]\n",
    "yval = y[0,:]\n",
    "\n",
    "#iterate over each dimension\n",
    "dim = 0\n",
    "\n",
    "if len(m.kern.lengthscale.values)==1:\n",
    "    l = m.kern.lengthscale.values[0]\n",
    "else:\n",
    "    l = m.kern.lengthscale.values[dim]\n",
    "    \n",
    "if dim==gradient_dim:\n",
    "    #maximum is at point[dim]-l (invert l if y is negative)\n",
    "    maxpoint = point[dim]-l*np.sign(yval)\n",
    "    minpoint = point[dim]+l*np.sign(yval)\n",
    "else:\n",
    "    maxpoint = point[dim]\n",
    "    minpoint = np.inf #somewhere far far away\n",
    "    if np.sign(yval)>0:\n",
    "        maxpoint, minpoint = minpoint, maxpoint #swap\n",
    "\n",
    "#determine if maximum is inside the domain\n",
    "maxin = (maxpoint > patch[dim,0]) and (maxpoint < patch[dim,1])\n",
    "minin = (minpoint > patch[dim,0]) and (minpoint < patch[dim,1])\n",
    "\n",
    "if maxin:\n",
    "    maxprod = maxin\n",
    "else:\n",
    "    #compute maximum value on boundary;\n",
    "    #maxprod = m.kern.\n",
    "    pass"
   ]
  },
  {
   "cell_type": "code",
   "execution_count": 49,
   "metadata": {},
   "outputs": [
    {
     "data": {
      "text/plain": [
       "array([  2.46679222e-09,   0.00000000e+00])"
      ]
     },
     "execution_count": 49,
     "metadata": {},
     "output_type": "execute_result"
    }
   ],
   "source": [
    "temppoint = point.copy()\n",
    "temppoint[dim]=patch[dim,1]\n",
    "tempm = m.copy()\n",
    "tempm.set_XY(m.X[0:1,:],m.Y[0:1,:])\n",
    "simple.calc_df_dx(tempm,temppoint[None,:])"
   ]
  }
 ],
 "metadata": {
  "kernelspec": {
   "display_name": "Python 3",
   "language": "python",
   "name": "python3"
  },
  "language_info": {
   "codemirror_mode": {
    "name": "ipython",
    "version": 3
   },
   "file_extension": ".py",
   "mimetype": "text/x-python",
   "name": "python",
   "nbconvert_exporter": "python",
   "pygments_lexer": "ipython3",
   "version": "3.6.8"
  }
 },
 "nbformat": 4,
 "nbformat_minor": 2
}
