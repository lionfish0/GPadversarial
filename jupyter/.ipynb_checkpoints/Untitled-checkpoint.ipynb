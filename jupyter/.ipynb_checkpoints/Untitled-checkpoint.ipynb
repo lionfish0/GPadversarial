{
 "cells": [
  {
   "cell_type": "code",
   "execution_count": 1,
   "metadata": {
    "collapsed": true
   },
   "outputs": [],
   "source": [
    "import GPy\n",
    "import numpy as np\n",
    "import GPadversarial\n",
    "import matplotlib.pyplot as plt\n",
    "%matplotlib inline\n",
    "import mnist\n",
    "\n",
    "#munge data from mnist\n",
    "rawX = mnist.train_images().astype(np.float32)\n",
    "def subsample(X,step=3):\n",
    "    return np.array([im[0::step,0::step] for im in X])\n",
    "rawX = subsample(rawX)\n",
    "\n",
    "allX = rawX.reshape(60000,np.prod(rawX.shape[1:])) #flatten it\n",
    "ally = mnist.train_labels()\n",
    "keep = ally<2\n",
    "allX = allX[keep,:]\n",
    "ally = ally[keep]\n",
    "ally = ally[:,None]\n",
    "X = allX[0:300,:]\n",
    "y = ally[0:300,:]\n",
    "testX = allX[500:600,:]\n",
    "testy = ally[500:600,:]"
   ]
  },
  {
   "cell_type": "markdown",
   "metadata": {},
   "source": [
    "# GP Simple Classifier\n",
    "\n",
    "Here we demonstrate attacking the simple GP classifier"
   ]
  },
  {
   "cell_type": "code",
   "execution_count": 2,
   "metadata": {},
   "outputs": [
    {
     "name": "stdout",
     "output_type": "stream",
     "text": [
      "Running L-BFGS-B (Scipy implementation) Code:\n",
      "  runtime   i      f              |g|        \n",
      "    00s16  0003   1.890708e+02   3.788846e-01 \n",
      "    01s93  0035   2.133011e+01   2.556945e-13 \n",
      "Runtime:     01s93\n",
      "Optimization status: Converged\n",
      "\n"
     ]
    }
   ],
   "source": [
    "#build model\n",
    "m = GPadversarial.build_simple_GP_model(X,y)"
   ]
  },
  {
   "cell_type": "code",
   "execution_count": 3,
   "metadata": {},
   "outputs": [
    {
     "data": {
      "text/plain": [
       "1.0"
      ]
     },
     "execution_count": 3,
     "metadata": {},
     "output_type": "execute_result"
    }
   ],
   "source": [
    "#compute classification accuracy on test data.\n",
    "pred, _ = m.predict(testX)\n",
    "np.mean((pred>0.5)==(testy==1))"
   ]
  },
  {
   "cell_type": "code",
   "execution_count": 4,
   "metadata": {},
   "outputs": [
    {
     "data": {
      "text/plain": [
       "<matplotlib.image.AxesImage at 0x7f6c229751d0>"
      ]
     },
     "execution_count": 4,
     "metadata": {},
     "output_type": "execute_result"
    },
    {
     "data": {
      "image/png": "[encoded data removed]",
      "text/plain": [
       "<matplotlib.figure.Figure at 0x7f6c4d53ef28>"
      ]
     },
     "metadata": {},
     "output_type": "display_data"
    }
   ],
   "source": [
    "#a digit...\n",
    "plt.matshow(testX[0:1,:].reshape(rawX.shape[1],rawX.shape[2]),cmap='gray')"
   ]
  },
  {
   "cell_type": "code",
   "execution_count": 5,
   "metadata": {},
   "outputs": [
    {
     "data": {
      "text/plain": [
       "[<matplotlib.lines.Line2D at 0x7f6c228c4898>]"
      ]
     },
     "execution_count": 5,
     "metadata": {},
     "output_type": "execute_result"
    },
    {
     "data": {
      "image/png": "[encoded data removed]",
      "text/plain": [
       "<matplotlib.figure.Figure at 0x7f6c2292bef0>"
      ]
     },
     "metadata": {},
     "output_type": "display_data"
    }
   ],
   "source": [
    "#the gradient of the latent function f and the posterior pi,\n",
    "#are not necessarily completely proportional, as it depends on how far \n",
    "#from 0 the latent function is, and its variance:\n",
    "fgrads = GPadversarial.get_numerical_f_grad(m,testX[0:1,:].copy())\n",
    "pigrads = GPadversarial.get_numerical_pi_grad(m,testX[0:1,:].copy())\n",
    "est = GPadversarial.calc_df_dx(m,testX[0:1,:].copy())\n",
    "plt.plot(pigrads,est,'x')"
   ]
  },
  {
   "cell_type": "code",
   "execution_count": 6,
   "metadata": {},
   "outputs": [
    {
     "data": {
      "text/plain": [
       "<matplotlib.colorbar.Colorbar at 0x7f6c22975940>"
      ]
     },
     "execution_count": 6,
     "metadata": {},
     "output_type": "execute_result"
    },
    {
     "data": {
      "image/png": "[encoded data removed]",
      "text/plain": [
       "<matplotlib.figure.Figure at 0x7f6c229759e8>"
      ]
     },
     "metadata": {},
     "output_type": "display_data"
    }
   ],
   "source": [
    "#let's see the saliency map\n",
    "plt.matshow(est.reshape(rawX.shape[1],rawX.shape[2]),cmap='gray',clim=[-0.012,0.012])\n",
    "plt.colorbar()"
   ]
  },
  {
   "cell_type": "code",
   "execution_count": 7,
   "metadata": {},
   "outputs": [
    {
     "name": "stdout",
     "output_type": "stream",
     "text": [
      "Running L-BFGS-B (Scipy implementation) Code:\n",
      "  runtime   i      f              |g|        \n",
      "    00s18  0003   1.893301e+02   2.667624e-02 \n",
      "    01s24  0017   8.806987e+01   5.379184e-01 \n",
      "    02s68  0037   1.864171e+01   2.482143e-05 "
     ]
    },
    {
     "name": "stderr",
     "output_type": "stream",
     "text": [
      " /home/mike/GPy/GPy/kern/src/stationary.py:129: RuntimeWarning:overflow encountered in square\n",
      " /home/mike/GPy/GPy/kern/src/stationary.py:130: RuntimeWarning:invalid value encountered in add\n"
     ]
    },
    {
     "name": "stdout",
     "output_type": "stream",
     "text": [
      "\n",
      "Runtime:     02s68\n",
      "Optimization status: Converged\n",
      "\n"
     ]
    },
    {
     "data": {
      "text/plain": [
       "<matplotlib.colorbar.Colorbar at 0x7f6c1c07e630>"
      ]
     },
     "execution_count": 7,
     "metadata": {},
     "output_type": "execute_result"
    },
    {
     "data": {
      "image/png": "[encoded data removed]",
      "text/plain": [
       "<matplotlib.figure.Figure at 0x7f6c22920390>"
      ]
     },
     "metadata": {},
     "output_type": "display_data"
    }
   ],
   "source": [
    "#side note, you'll notice the saliency map is very different if we turn on ARD. \n",
    "#This means each pixel can have a different lengthscale;\n",
    "mARDon = GPadversarial.build_simple_GP_model(X,y,ARD=True)\n",
    "estARDon = GPadversarial.calc_df_dx(mARDon,testX[0:1,:].copy())\n",
    "plt.matshow(estARDon.reshape(rawX.shape[1],rawX.shape[2]),cmap='gray',clim=[-0.012,0.012])\n",
    "plt.colorbar()"
   ]
  },
  {
   "cell_type": "code",
   "execution_count": 14,
   "metadata": {},
   "outputs": [
    {
     "name": "stdout",
     "output_type": "stream",
     "text": [
      "Before and after...\n",
      "0\n",
      "1\n",
      "2\n",
      "3\n",
      "Crossed boundary after 4 changes\n"
     ]
    },
    {
     "data": {
      "image/png": "[encoded data removed]",
      "text/plain": [
       "<matplotlib.figure.Figure at 0x7f6c16146438>"
      ]
     },
     "metadata": {},
     "output_type": "display_data"
    },
    {
     "data": {
      "image/png": "[encoded data removed]",
      "text/plain": [
       "<matplotlib.figure.Figure at 0x7f6c1606a9b0>"
      ]
     },
     "metadata": {},
     "output_type": "display_data"
    }
   ],
   "source": [
    "#launching an attack...\n",
    "#hint, try changing the 'changedir'\n",
    "print(\"Before and after...\")\n",
    "advX = testX[1:2,:].copy() #the initial test point we're going to use...\n",
    "plt.matshow(advX.reshape(rawX.shape[1],rawX.shape[2]),cmap='gray')\n",
    "advsample, pred, N = GPadversarial.generate_adversarial_example(m, advX, changedir=0)\n",
    "if advsample is not None:\n",
    "    print(\"Crossed boundary after %d changes\" % N)\n",
    "    plt.matshow(advsample.reshape(rawX.shape[1],rawX.shape[2]),cmap='gray')\n",
    "else:\n",
    "    print(\"Failed to find adversarial example\")"
   ]
  },
  {
   "cell_type": "markdown",
   "metadata": {},
   "source": [
    "# GP LVM\n",
    "\n",
    "Here we demonstrate two attacks of the GP LVM.\n",
    "\n",
    "In latent space we make predictions using a simple linear classifier"
   ]
  },
  {
   "cell_type": "code",
   "execution_count": null,
   "metadata": {
    "collapsed": true
   },
   "outputs": [],
   "source": []
  }
 ],
 "metadata": {
  "kernelspec": {
   "display_name": "Python 3",
   "language": "python",
   "name": "python3"
  },
  "language_info": {
   "codemirror_mode": {
    "name": "ipython",
    "version": 3
   },
   "file_extension": ".py",
   "mimetype": "text/x-python",
   "name": "python",
   "nbconvert_exporter": "python",
   "pygments_lexer": "ipython3",
   "version": "3.6.1"
  }
 },
 "nbformat": 4,
 "nbformat_minor": 2
}
