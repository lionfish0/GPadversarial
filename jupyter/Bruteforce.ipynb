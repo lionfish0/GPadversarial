{
 "cells": [
  {
   "cell_type": "code",
   "execution_count": 1,
   "metadata": {
    "collapsed": true
   },
   "outputs": [],
   "source": [
    "import GPy\n",
    "import numpy as np\n",
    "import matplotlib.pyplot as plt\n",
    "%matplotlib inline\n",
    "import mnist\n",
    "\n",
    "#munge data from mnist\n",
    "rawX = mnist.train_images().astype(np.float32)\n",
    "def subsample(X,step=3):\n",
    "    return np.array([im[0::step,0::step] for im in X])\n",
    "rawX = subsample(rawX)\n",
    "rawX = rawX[:,1:9,1:9] #remove row around edges of images (rarely used)\n",
    "\n",
    "allX = rawX.reshape(60000,np.prod(rawX.shape[1:])) #flatten it\n",
    "ally = mnist.train_labels()\n",
    "keep = ally<2\n",
    "allX = allX[keep,:]\n",
    "ally = ally[keep]\n",
    "ally = ally[:,None]\n",
    "X = allX[0:300,:]\n",
    "y = ally[0:300,:]\n",
    "testX = allX[500:600,:]\n",
    "testy = ally[500:600,:]"
   ]
  },
  {
   "cell_type": "markdown",
   "metadata": {},
   "source": [
    "# GP Simple Classifier\n",
    "\n",
    "Here we demonstrate attacking the simple GP classifier"
   ]
  },
  {
   "cell_type": "code",
   "execution_count": 2,
   "metadata": {},
   "outputs": [
    {
     "name": "stdout",
     "output_type": "stream",
     "text": [
      "Running L-BFGS-B (Scipy implementation) Code:\n",
      "  runtime   i      f              |g|        \n",
      "    00s18  0004   1.884938e+02   3.918709e-01 \n",
      "    01s66  0034   2.133011e+01   7.352433e-11 \n",
      "Runtime:     01s66\n",
      "Optimization status: Converged\n",
      "\n"
     ]
    }
   ],
   "source": [
    "#build model\n",
    "from GPadversarial import simple\n",
    "m = simple.build_model(X,y)"
   ]
  },
  {
   "cell_type": "code",
   "execution_count": 3,
   "metadata": {},
   "outputs": [
    {
     "data": {
      "text/plain": [
       "1.0"
      ]
     },
     "execution_count": 3,
     "metadata": {},
     "output_type": "execute_result"
    }
   ],
   "source": [
    "#compute classification accuracy on test data.\n",
    "pred, _ = m.predict(testX)\n",
    "np.mean((pred>0.5)==(testy==1))"
   ]
  },
  {
   "cell_type": "code",
   "execution_count": 4,
   "metadata": {},
   "outputs": [
    {
     "data": {
      "text/plain": [
       "<matplotlib.image.AxesImage at 0x7ff826e57400>"
      ]
     },
     "execution_count": 4,
     "metadata": {},
     "output_type": "execute_result"
    },
    {
     "data": {
      "image/png": "[encoded data removed]",
      "text/plain": [
       "<matplotlib.figure.Figure at 0x7ff8543435f8>"
      ]
     },
     "metadata": {},
     "output_type": "display_data"
    }
   ],
   "source": [
    "advX = testX[1:2,:].copy() #the initial test point we're going to use...\n",
    "plt.matshow(advX.reshape(rawX.shape[1],rawX.shape[2]),cmap='gray')"
   ]
  },
  {
   "cell_type": "code",
   "execution_count": 42,
   "metadata": {
    "collapsed": true
   },
   "outputs": [],
   "source": [
    "N = 64\n",
    "adv = advX.copy()\n",
    "for it in range(2):\n",
    "    adv = adv.repeat(N,0)\n",
    "    for i in range(N):\n",
    "        adv[i::N,i]=255"
   ]
  },
  {
   "cell_type": "code",
   "execution_count": 43,
   "metadata": {},
   "outputs": [],
   "source": [
    "lowest = np.Inf\n",
    "lowestim = None\n",
    "for it in range(len(adv)):\n",
    "    b = adv[it,:][None,:]\n",
    "    for it in range(2):\n",
    "        b = b.repeat(N,0)\n",
    "        for i in range(N):\n",
    "            b[i::N,i]=255\n",
    "    preds = m.predict(b)[0]\n",
    "    minpredi = np.argmin(preds)\n",
    "    if (preds[minpredi]<lowest):\n",
    "        lowest = preds[minpredi]\n",
    "        lowestim = b[minpredi]"
   ]
  },
  {
   "cell_type": "code",
   "execution_count": 44,
   "metadata": {},
   "outputs": [
    {
     "name": "stdout",
     "output_type": "stream",
     "text": [
      "[ 0.39626248]\n"
     ]
    },
    {
     "data": {
      "text/plain": [
       "<matplotlib.image.AxesImage at 0x7ff821c06d30>"
      ]
     },
     "execution_count": 44,
     "metadata": {},
     "output_type": "execute_result"
    },
    {
     "data": {
      "image/png": "[encoded data removed]",
      "text/plain": [
       "<matplotlib.figure.Figure at 0x7ff821c8e860>"
      ]
     },
     "metadata": {},
     "output_type": "display_data"
    }
   ],
   "source": [
    "print(lowest)\n",
    "plt.matshow(lowestim.reshape(rawX.shape[1],rawX.shape[2]),cmap='gray')"
   ]
  },
  {
   "cell_type": "code",
   "execution_count": null,
   "metadata": {
    "collapsed": true
   },
   "outputs": [],
   "source": []
  }
 ],
 "metadata": {
  "kernelspec": {
   "display_name": "Python 3",
   "language": "python",
   "name": "python3"
  },
  "language_info": {
   "codemirror_mode": {
    "name": "ipython",
    "version": 3
   },
   "file_extension": ".py",
   "mimetype": "text/x-python",
   "name": "python",
   "nbconvert_exporter": "python",
   "pygments_lexer": "ipython3",
   "version": "3.6.1"
  }
 },
 "nbformat": 4,
 "nbformat_minor": 2
}
