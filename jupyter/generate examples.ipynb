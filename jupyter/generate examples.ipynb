{
 "cells": [
  {
   "cell_type": "code",
   "execution_count": 1,
   "metadata": {},
   "outputs": [],
   "source": [
    "from boundmixofgaussians import findpeak, compute_sum, compute_grad\n",
    "import numpy as np\n",
    "from GPAdversarialBound import getallchanges, zeromean_gaussian, getbound, AdversBound, compute_bounds\n",
    "from GPAdversarialBound.logistic import get_logistic_result\n",
    "from GPAdversarialDatasets import getMNISTexample, getbankexample, getcreditexample, getspamexample,getsynthexample\n",
    "import argparse\n",
    "import sys\n",
    "import pickle"
   ]
  },
  {
   "cell_type": "code",
   "execution_count": 2,
   "metadata": {},
   "outputs": [
    {
     "name": "stdout",
     "output_type": "stream",
     "text": [
      "Comparing 0 vs 1\n"
     ]
    }
   ],
   "source": [
    "ntrain = 80\n",
    "ntest = 200\n",
    "fullX,Y = getMNISTexample(scalingfactor=4,Ntraining=ntrain+ntest,splittype='01')\n",
    "trainX = fullX[0:ntrain,:]\n",
    "testX = fullX[ntrain:,:]\n",
    "trainY = Y[0:ntrain]\n",
    "testY = Y[ntrain:]"
   ]
  },
  {
   "cell_type": "code",
   "execution_count": 3,
   "metadata": {},
   "outputs": [],
   "source": [
    "from GPadversarial import simple"
   ]
  },
  {
   "cell_type": "code",
   "execution_count": 4,
   "metadata": {},
   "outputs": [
    {
     "name": "stdout",
     "output_type": "stream",
     "text": [
      "Running L-BFGS-B (Scipy implementation) Code:\n",
      "  runtime   i      f              |g|        \n",
      "    00s12  0009   1.313400e+01   7.302413e-04 \n",
      "    00s19  0014   1.102913e+01   8.146029e-06 \n",
      "    00s29  0022   1.084655e+01   2.246278e-12 \n",
      "Runtime:     00s29\n",
      "Optimization status: Converged\n",
      "\n"
     ]
    },
    {
     "data": {
      "text/plain": [
       "<paramz.optimization.optimization.opt_lbfgsb at 0x7f383cede630>"
      ]
     },
     "execution_count": 4,
     "metadata": {},
     "output_type": "execute_result"
    }
   ],
   "source": [
    "m = simple.build_model(trainX,trainY)\n",
    "#m.rbf.lengthscale.fix(100)\n",
    "#m.rbf.variance.fix(10)\n",
    "m.optimize()"
   ]
  },
  {
   "cell_type": "code",
   "execution_count": 5,
   "metadata": {},
   "outputs": [
    {
     "data": {
      "text/html": [
       "<style type=\"text/css\">\n",
       ".pd{\n",
       "    font-family: \"Courier New\", Courier, monospace !important;\n",
       "    width: 100%;\n",
       "    padding: 3px;\n",
       "}\n",
       "</style>\n",
       "\n",
       "<p class=pd>\n",
       "<b>Model</b>: gp_classification<br>\n",
       "<b>Objective</b>: 10.84655275348316<br>\n",
       "<b>Number of Parameters</b>: 2<br>\n",
       "<b>Number of Optimization Parameters</b>: 2<br>\n",
       "<b>Updates</b>: True<br>\n",
       "</p>\n",
       "<style type=\"text/css\">\n",
       ".tg  {font-family:\"Courier New\", Courier, monospace !important;padding:2px 3px;word-break:normal;border-collapse:collapse;border-spacing:0;border-color:#DCDCDC;margin:0px auto;width:100%;}\n",
       ".tg td{font-family:\"Courier New\", Courier, monospace !important;font-weight:bold;color:#444;background-color:#F7FDFA;border-style:solid;border-width:1px;overflow:hidden;word-break:normal;border-color:#DCDCDC;}\n",
       ".tg th{font-family:\"Courier New\", Courier, monospace !important;font-weight:normal;color:#fff;background-color:#26ADE4;border-style:solid;border-width:1px;overflow:hidden;word-break:normal;border-color:#DCDCDC;}\n",
       ".tg .tg-left{font-family:\"Courier New\", Courier, monospace !important;font-weight:normal;text-align:left;}\n",
       ".tg .tg-center{font-family:\"Courier New\", Courier, monospace !important;font-weight:normal;text-align:center;}\n",
       ".tg .tg-right{font-family:\"Courier New\", Courier, monospace !important;font-weight:normal;text-align:right;}\n",
       "</style>\n",
       "<table class=\"tg\"><tr><th><b>  gp_classification.</b></th><th><b>            value</b></th><th><b>constraints</b></th><th><b>priors</b></th></tr>\n",
       "<tr><td class=tg-left>  rbf.variance      </td><td class=tg-right>70.31175358330307</td><td class=tg-center>    +ve    </td><td class=tg-center>      </td></tr>\n",
       "<tr><td class=tg-left>  rbf.lengthscale   </td><td class=tg-right>677.0457917111836</td><td class=tg-center>    +ve    </td><td class=tg-center>      </td></tr>\n",
       "</table>"
      ],
      "text/plain": [
       "<GPy.models.gp_classification.GPClassification at 0x7f383cedee48>"
      ]
     },
     "execution_count": 5,
     "metadata": {},
     "output_type": "execute_result"
    }
   ],
   "source": [
    "m"
   ]
  },
  {
   "cell_type": "code",
   "execution_count": 33,
   "metadata": {},
   "outputs": [
    {
     "data": {
      "text/plain": [
       "[-4.259608665577376, 3.7546510066944605]"
      ]
     },
     "execution_count": 33,
     "metadata": {},
     "output_type": "execute_result"
    }
   ],
   "source": [
    "thresholds = [np.sort(m.predict_noiseless(trainX)[0][:,0])[int(len(trainX)*0.05)],np.sort(m.predict_noiseless(trainX)[0][:,0])[int(len(trainX)*0.95)]]\n",
    "thresholds"
   ]
  },
  {
   "cell_type": "code",
   "execution_count": 6,
   "metadata": {},
   "outputs": [],
   "source": [
    "m.kern.lengthscale=10"
   ]
  },
  {
   "cell_type": "code",
   "execution_count": 34,
   "metadata": {},
   "outputs": [
    {
     "name": "stdout",
     "output_type": "stream",
     "text": [
      "[[2.8585]] * -1.0 < -4.259608665577376 * -1.0 = [[-2.8585]] < 4.259608665577376\n",
      "[[2.8585]] * -1.0 < -4.259608665577376 * -1.0 = [[-2.8585]] < 4.259608665577376\n",
      "!\n",
      "[[-0.94274]\n",
      " [-0.94242]\n",
      " [-0.94137]\n",
      " [-0.93952]\n",
      " [-0.93678]\n",
      " [-0.93306]\n",
      " [-0.92827]\n",
      " [-0.92233]\n",
      " [-0.91518]\n",
      " [-0.90678]\n",
      " [-0.89711]\n",
      " [-0.88621]\n",
      " [-0.87414]\n",
      " [-0.86101]\n",
      " [-0.84696]\n",
      " [-0.83215]\n",
      " [-0.81675]\n",
      " [-0.80094]\n",
      " [-0.7849 ]\n",
      " [-0.76878]]\n",
      "19\n",
      "[[2.05826]] * -1.0 < -4.259608665577376 * -1.0 = [[-2.05826]] < 4.259608665577376\n",
      "[[2.05826]] * -1.0 < -4.259608665577376 * -1.0 = [[-2.05826]] < 4.259608665577376\n",
      "!\n",
      "[[-0.58191]\n",
      " [-0.59894]\n",
      " [-0.61616]\n",
      " [-0.63342]\n",
      " [-0.65054]\n",
      " [-0.66735]\n",
      " [-0.68369]\n",
      " [-0.69937]\n",
      " [-0.71428]\n",
      " [-0.72827]\n",
      " [-0.74127]\n",
      " [-0.75321]\n",
      " [-0.76406]\n",
      " [-0.77381]\n",
      " [-0.78248]\n",
      " [-0.79011]\n",
      " [-0.79675]\n",
      " [-0.80247]\n",
      " [-0.80733]\n",
      " [-0.8114 ]]\n",
      "0\n",
      "[[0.61419]] * -1.0 < -4.259608665577376 * -1.0 = [[-0.61419]] < 4.259608665577376\n",
      "[[0.61419]] * -1.0 < -4.259608665577376 * -1.0 = [[-0.61419]] < 4.259608665577376\n",
      "!\n",
      "[[-0.40598]\n",
      " [-0.41659]\n",
      " [-0.42774]\n",
      " [-0.43937]\n",
      " [-0.45145]\n",
      " [-0.46389]\n",
      " [-0.47662]\n",
      " [-0.48956]\n",
      " [-0.50261]\n",
      " [-0.51568]\n",
      " [-0.52865]\n",
      " [-0.54144]\n",
      " [-0.55395]\n",
      " [-0.56609]\n",
      " [-0.57779]\n",
      " [-0.58899]\n",
      " [-0.59963]\n",
      " [-0.60968]\n",
      " [-0.61911]\n",
      " [-0.62791]]\n",
      "0\n",
      "[[-0.73652]] * -1.0 < -4.259608665577376 * -1.0 = [[0.73652]] < 4.259608665577376\n",
      "[[-0.73652]] * -1.0 < -4.259608665577376 * -1.0 = [[0.73652]] < 4.259608665577376\n",
      "!\n",
      "[[-0.40918]\n",
      " [-0.39934]\n",
      " [-0.38952]\n",
      " [-0.37981]\n",
      " [-0.37028]\n",
      " [-0.36101]\n",
      " [-0.35208]\n",
      " [-0.34355]\n",
      " [-0.33549]\n",
      " [-0.32794]\n",
      " [-0.32093]\n",
      " [-0.3145 ]\n",
      " [-0.30866]\n",
      " [-0.30341]\n",
      " [-0.29873]\n",
      " [-0.29462]\n",
      " [-0.29105]\n",
      " [-0.28799]\n",
      " [-0.28542]\n",
      " [-0.2833 ]]\n",
      "19\n",
      "[[-1.95607]] * -1.0 < -4.259608665577376 * -1.0 = [[1.95607]] < 4.259608665577376\n",
      "[[-1.95607]] * -1.0 < -4.259608665577376 * -1.0 = [[1.95607]] < 4.259608665577376\n",
      "!\n",
      "[[-0.2833 ]\n",
      " [-0.27547]\n",
      " [-0.26806]\n",
      " [-0.26112]\n",
      " [-0.25469]\n",
      " [-0.24879]\n",
      " [-0.24344]\n",
      " [-0.23864]\n",
      " [-0.2344 ]\n",
      " [-0.23072]\n",
      " [-0.22758]\n",
      " [-0.22495]\n",
      " [-0.22283]\n",
      " [-0.22118]\n",
      " [-0.21997]\n",
      " [-0.21919]\n",
      " [-0.21878]\n",
      " [-0.21874]\n",
      " [-0.21902]\n",
      " [-0.21959]]\n",
      "17\n",
      "[[-2.96992]] * -1.0 < -4.259608665577376 * -1.0 = [[2.96992]] < 4.259608665577376\n",
      "[[-2.96992]] * -1.0 < -4.259608665577376 * -1.0 = [[2.96992]] < 4.259608665577376\n",
      "!\n",
      "[[-0.21874]\n",
      " [-0.21278]\n",
      " [-0.20723]\n",
      " [-0.20211]\n",
      " [-0.19744]\n",
      " [-0.19321]\n",
      " [-0.18944]\n",
      " [-0.18613]\n",
      " [-0.18326]\n",
      " [-0.18084]\n",
      " [-0.17886]\n",
      " [-0.17729]\n",
      " [-0.17612]\n",
      " [-0.17533]\n",
      " [-0.17491]\n",
      " [-0.17484]\n",
      " [-0.17509]\n",
      " [-0.17564]\n",
      " [-0.17648]\n",
      " [-0.17758]]\n",
      "15\n",
      "[[-3.79475]] * -1.0 < -4.259608665577376 * -1.0 = [[3.79475]] < 4.259608665577376\n",
      "[[-3.79475]] * -1.0 < -4.259608665577376 * -1.0 = [[3.79475]] < 4.259608665577376\n",
      "!\n",
      "[[-0.18119]\n",
      " [-0.17638]\n",
      " [-0.17182]\n",
      " [-0.16752]\n",
      " [-0.16349]\n",
      " [-0.15976]\n",
      " [-0.15632]\n",
      " [-0.15319]\n",
      " [-0.15037]\n",
      " [-0.14787]\n",
      " [-0.14569]\n",
      " [-0.14384]\n",
      " [-0.14231]\n",
      " [-0.14111]\n",
      " [-0.14023]\n",
      " [-0.13967]\n",
      " [-0.13943]\n",
      " [-0.1395 ]\n",
      " [-0.13987]\n",
      " [-0.14055]]\n",
      "16\n",
      "[[-4.26081]] * -1.0 < -4.259608665577376 * -1.0 = [[4.26081]] < 4.259608665577376\n"
     ]
    }
   ],
   "source": [
    "advX = testX[1:2,:].copy()\n",
    "advsample, pred, N, listofperturbed = simple.generate_adversarial_example(m, advX, changedir=None,threshold=thresholds[0])"
   ]
  },
  {
   "cell_type": "code",
   "execution_count": 35,
   "metadata": {},
   "outputs": [
    {
     "data": {
      "text/plain": [
       "(array([[-4.26081]]), array([[14.48183]]))"
      ]
     },
     "execution_count": 35,
     "metadata": {},
     "output_type": "execute_result"
    }
   ],
   "source": [
    "m.predict_noiseless(advsample)"
   ]
  },
  {
   "cell_type": "code",
   "execution_count": 36,
   "metadata": {},
   "outputs": [
    {
     "data": {
      "text/plain": [
       "7"
      ]
     },
     "execution_count": 36,
     "metadata": {},
     "output_type": "execute_result"
    }
   ],
   "source": [
    "N"
   ]
  },
  {
   "cell_type": "code",
   "execution_count": 37,
   "metadata": {},
   "outputs": [],
   "source": [
    "#advX.shape"
   ]
  },
  {
   "cell_type": "code",
   "execution_count": 38,
   "metadata": {},
   "outputs": [],
   "source": [
    "#res = []\n",
    "#for i in range(256):\n",
    "#    advsample[0,listofperturbed]=i\n",
    "#    res.append([m.predict(advsample)[0][0,0],m.predict_noiseless(advsample)[0][0,0]])"
   ]
  },
  {
   "cell_type": "code",
   "execution_count": 39,
   "metadata": {},
   "outputs": [],
   "source": [
    "#res = np.array(res)"
   ]
  },
  {
   "cell_type": "code",
   "execution_count": 40,
   "metadata": {},
   "outputs": [],
   "source": [
    "import matplotlib.pyplot as plt\n",
    "%matplotlib inline\n",
    "#plt.plot(np.arange(256),np.array(res))\n",
    "#plt.hlines(0,0,256)\n",
    "#plt.hlines(1,0,256)\n",
    "#plt.hlines(0.5,0,256,linestyles='--')"
   ]
  },
  {
   "cell_type": "code",
   "execution_count": 57,
   "metadata": {},
   "outputs": [],
   "source": [
    "idxtouse = np.where(m.predict_noiseless(trainX)[0][:,0]>thresholds[1])[0][1]"
   ]
  },
  {
   "cell_type": "code",
   "execution_count": 61,
   "metadata": {},
   "outputs": [
    {
     "data": {
      "text/plain": [
       "7"
      ]
     },
     "execution_count": 61,
     "metadata": {},
     "output_type": "execute_result"
    }
   ],
   "source": [
    "np.sum(advX!=advsample)"
   ]
  },
  {
   "cell_type": "code",
   "execution_count": 58,
   "metadata": {},
   "outputs": [
    {
     "name": "stdout",
     "output_type": "stream",
     "text": [
      "[[2.8585]]\n",
      "[[-4.26081]]\n",
      "7\n"
     ]
    },
    {
     "data": {
      "image/png": "[encoded data removed]",
      "text/plain": [
       "<Figure size 360x720 with 4 Axes>"
      ]
     },
     "metadata": {},
     "output_type": "display_data"
    }
   ],
   "source": [
    "import matplotlib.pyplot as plt\n",
    "%matplotlib inline\n",
    "plt.figure(figsize=[5,10])\n",
    "plt.subplot(2,1,1)\n",
    "plt.imshow(testX[idxtouse:idxtouse+1,:].reshape(8,8),cmap='gray')\n",
    "plt.clim([0,255])\n",
    "plt.colorbar()\n",
    "plt.subplot(2,1,2)\n",
    "plt.imshow(advsample.reshape(8,8),cmap='gray')\n",
    "plt.colorbar()\n",
    "plt.clim([0,255])\n",
    "print(m.predict_noiseless(advX)[0])\n",
    "print(m.predict_noiseless(advsample)[0])\n",
    "print(N)\n",
    "plt.savefig('reach-4.26081_or_95percent_threshold.pdf')"
   ]
  },
  {
   "cell_type": "code",
   "execution_count": 46,
   "metadata": {},
   "outputs": [
    {
     "name": "stdout",
     "output_type": "stream",
     "text": [
      "/home/mike/Documents/Research/GPadversarial/jupyter\r\n"
     ]
    }
   ],
   "source": [
    "!pwd"
   ]
  },
  {
   "cell_type": "code",
   "execution_count": 42,
   "metadata": {},
   "outputs": [
    {
     "data": {
      "text/plain": [
       "<Figure size 432x288 with 0 Axes>"
      ]
     },
     "metadata": {},
     "output_type": "display_data"
    }
   ],
   "source": []
  },
  {
   "cell_type": "code",
   "execution_count": 15,
   "metadata": {},
   "outputs": [
    {
     "data": {
      "text/plain": [
       "1224.6875"
      ]
     },
     "execution_count": 15,
     "metadata": {},
     "output_type": "execute_result"
    }
   ],
   "source": [
    "np.sum(advX)"
   ]
  },
  {
   "cell_type": "code",
   "execution_count": 20,
   "metadata": {},
   "outputs": [
    {
     "data": {
      "text/plain": [
       "<matplotlib.image.AxesImage at 0x7f1238280898>"
      ]
     },
     "execution_count": 20,
     "metadata": {},
     "output_type": "execute_result"
    },
    {
     "data": {
      "image/png": "[encoded data removed]",
      "text/plain": [
       "<Figure size 432x288 with 1 Axes>"
      ]
     },
     "metadata": {},
     "output_type": "display_data"
    }
   ],
   "source": [
    "plt.imshow(np.mean(trainX,0).reshape(8,8))"
   ]
  },
  {
   "cell_type": "code",
   "execution_count": null,
   "metadata": {},
   "outputs": [],
   "source": []
  },
  {
   "cell_type": "code",
   "execution_count": null,
   "metadata": {},
   "outputs": [],
   "source": []
  }
 ],
 "metadata": {
  "kernelspec": {
   "display_name": "Python 3",
   "language": "python",
   "name": "python3"
  },
  "language_info": {
   "codemirror_mode": {
    "name": "ipython",
    "version": 3
   },
   "file_extension": ".py",
   "mimetype": "text/x-python",
   "name": "python",
   "nbconvert_exporter": "python",
   "pygments_lexer": "ipython3",
   "version": "3.6.8"
  }
 },
 "nbformat": 4,
 "nbformat_minor": 2
}
