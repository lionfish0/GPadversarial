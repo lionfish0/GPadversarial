{
 "cells": [
  {
   "cell_type": "code",
   "execution_count": 1,
   "metadata": {
    "collapsed": true
   },
   "outputs": [],
   "source": [
    "import GPy\n",
    "import numpy as np\n",
    "import matplotlib.pyplot as plt\n",
    "%matplotlib inline\n",
    "import mnist\n",
    "\n",
    "#munge data from mnist\n",
    "rawX = mnist.train_images().astype(np.float32)\n",
    "def subsample(X,step=3):\n",
    "    return np.array([im[0::step,0::step] for im in X])\n",
    "rawX = subsample(rawX)\n",
    "\n",
    "allX = rawX.reshape(60000,np.prod(rawX.shape[1:])) #flatten it\n",
    "ally = mnist.train_labels()\n",
    "keep = ally<2\n",
    "allX = allX[keep,:]\n",
    "ally = ally[keep]\n",
    "ally = ally[:,None]\n",
    "X = allX[0:300,:]\n",
    "y = ally[0:300,:]\n",
    "testX = allX[500:600,:]\n",
    "testy = ally[500:600,:]"
   ]
  },
  {
   "cell_type": "markdown",
   "metadata": {},
   "source": [
    "# Empty Class\n",
    "\n",
    "What adversarial samples do we get if we start with an empty class?\n",
    "\n",
    "## Simple GP Classification"
   ]
  },
  {
   "cell_type": "code",
   "execution_count": 2,
   "metadata": {},
   "outputs": [
    {
     "name": "stdout",
     "output_type": "stream",
     "text": [
      "Running L-BFGS-B (Scipy implementation) Code:\n",
      "  runtime   i      f              |g|        \n",
      "    00s18  0004   1.885035e+02   3.931021e-01 \n",
      "    01s20  0025   2.142309e+01   1.840610e-05 \n",
      "    01s75  0035   2.133011e+01   2.556945e-13 \n",
      "Runtime:     01s75\n",
      "Optimization status: Converged\n",
      "\n"
     ]
    }
   ],
   "source": [
    "#build model\n",
    "from GPadversarial import simple\n",
    "m = simple.build_model(X,y)"
   ]
  },
  {
   "cell_type": "code",
   "execution_count": 3,
   "metadata": {},
   "outputs": [
    {
     "name": "stdout",
     "output_type": "stream",
     "text": [
      "Crossed boundary after 2 changes\n"
     ]
    },
    {
     "data": {
      "image/png": "[encoded data removed]",
      "text/plain": [
       "<matplotlib.figure.Figure at 0x7fd289a6a080>"
      ]
     },
     "metadata": {},
     "output_type": "display_data"
    }
   ],
   "source": [
    "advX = np.zeros_like(testX[1:2,:]) #the initial test point we're going to use...\n",
    "advsample, pred, N = simple.generate_adversarial_example(m, advX, changedir=+1)\n",
    "if advsample is not None:\n",
    "    print(\"Crossed boundary after %d changes\" % N)\n",
    "    plt.matshow(advsample.reshape(rawX.shape[1],rawX.shape[2]),cmap='gray')\n",
    "else:\n",
    "    print(\"Failed to find adversarial example\")"
   ]
  },
  {
   "cell_type": "markdown",
   "metadata": {},
   "source": [
    "## GPLVM"
   ]
  },
  {
   "cell_type": "code",
   "execution_count": 5,
   "metadata": {},
   "outputs": [
    {
     "name": "stdout",
     "output_type": "stream",
     "text": [
      "Running L-BFGS-B (Scipy implementation) Code:\n",
      "  runtime   i     f              |g|        \n",
      "    00s13  005   4.048738e+06   5.122574e+11 \n",
      "    00s18  008   1.603485e+06   1.604464e+10 \n",
      "    01s68  102   1.385180e+05   4.790781e+02 \n",
      "Runtime:     01s68\n",
      "Optimization status: Maximum number of f evaluations reached\n",
      "\n"
     ]
    },
    {
     "name": "stderr",
     "output_type": "stream",
     "text": [
      " /home/mike/anaconda3/lib/python3.6/site-packages/sklearn/utils/validation.py:526: DataConversionWarning:A column-vector y was passed when a 1d array was expected. Please change the shape of y to (n_samples, ), for example using ravel().\n"
     ]
    }
   ],
   "source": [
    "from GPadversarial import lvm\n",
    "m, clf = lvm.build_model(X,y)"
   ]
  },
  {
   "cell_type": "code",
   "execution_count": 6,
   "metadata": {},
   "outputs": [
    {
     "name": "stderr",
     "output_type": "stream",
     "text": [
      " /home/mike/anaconda3/lib/python3.6/site-packages/paramz/transformations.py:109: RuntimeWarning:overflow encountered in expm1\n"
     ]
    },
    {
     "name": "stdout",
     "output_type": "stream",
     "text": [
      "[[ 19.2251437]] [[-0.21877836]]\n"
     ]
    },
    {
     "data": {
      "text/plain": [
       "<matplotlib.image.AxesImage at 0x7fd283644828>"
      ]
     },
     "execution_count": 6,
     "metadata": {},
     "output_type": "execute_result"
    },
    {
     "data": {
      "image/png": "[encoded data removed]",
      "text/plain": [
       "<matplotlib.figure.Figure at 0x7fd288f42208>"
      ]
     },
     "metadata": {},
     "output_type": "display_data"
    },
    {
     "data": {
      "image/png": "[encoded data removed]",
      "text/plain": [
       "<matplotlib.figure.Figure at 0x7fd271d04828>"
      ]
     },
     "metadata": {},
     "output_type": "display_data"
    }
   ],
   "source": [
    "advX = np.zeros_like(testX[0:1,:])\n",
    "advsample, intermediatesample = lvm.generate_adversarial_example_near_boundary(m,clf,advX)\n",
    "plt.matshow(advsample.reshape(rawX.shape[1],rawX.shape[2]),cmap='gray')\n",
    "plt.matshow(intermediatesample.reshape(rawX.shape[1],rawX.shape[2]),cmap='gray')"
   ]
  },
  {
   "cell_type": "code",
   "execution_count": 7,
   "metadata": {},
   "outputs": [
    {
     "name": "stdout",
     "output_type": "stream",
     "text": [
      "[[ 19.2251437]]\n",
      "[[-0.69470603]]\n",
      "[[-12.06422319]]\n"
     ]
    }
   ],
   "source": [
    "print(lvm.get_pred(m,clf,advX))\n",
    "print(lvm.get_pred(m,clf,intermediatesample))\n",
    "print(lvm.get_pred(m,clf,advsample))"
   ]
  },
  {
   "cell_type": "markdown",
   "metadata": {},
   "source": [
    "The earlier pair of scores is for the seed point, and the point just after one has crossed the boundary: In my run it goes from -38 to +4. I found that searching along the boundary can lead to the actual value becoming further from 0; but, presumably the pixels get closer."
   ]
  }
 ],
 "metadata": {
  "kernelspec": {
   "display_name": "Python 3",
   "language": "python",
   "name": "python3"
  },
  "language_info": {
   "codemirror_mode": {
    "name": "ipython",
    "version": 3
   },
   "file_extension": ".py",
   "mimetype": "text/x-python",
   "name": "python",
   "nbconvert_exporter": "python",
   "pygments_lexer": "ipython3",
   "version": "3.6.1"
  }
 },
 "nbformat": 4,
 "nbformat_minor": 2
}
